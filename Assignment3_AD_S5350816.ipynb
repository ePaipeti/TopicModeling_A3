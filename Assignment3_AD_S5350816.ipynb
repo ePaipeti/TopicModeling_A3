{
 "cells": [
  {
   "cell_type": "markdown",
   "metadata": {
    "id": "z81sDP-WhbM4"
   },
   "source": [
    "# Assignment 3: LDA Topic Modeling\n",
    "\n",
    "## Note\n",
    "Installing Tomotopy locally can return an error, if that's the case run this notebook on Google Colab\n",
    "\n",
    "## Research Background\n",
    "\n",
    "LDA is a popular topic modeling algorithm widely used in the fields of Digital Humanities and Social Sciences. In the field of political communication, topic modeling is often applied for analyzing politicians Twitter/X posts, identitying thematic patterns or topics revolving around their posts.\n",
    "\n",
    "For this assignment, students will work with tweets from two USA politicians, Donald Trump and Bernie Sanders, who are often regarded as right-wing populist and left-wing populist respectively. Right-wing populism often emphasizes nationalism, anti-immigration policies, and a critique of global elites from a culturally conservative perspective, focusing on preserving traditional values and social hierarchies. Left-wing populism prioritizes economic inequality, advocating for the redistribution of wealth, expansion of social services, and empowerment of the working class against the capitalist elite. While both forms of populism appeal to the \"common people\" against perceived elites and established structures, they diverge significantly in their identification of the elites, proposed solutions, and core ideologies. For a more detailed explanation, you can read the chapter by Macaulay (2019) \"Bernie and The Donald: A comparison of left-and right-wing populist discourse\" (full reference below).\n",
    "\n",
    "**Research Questions**\n",
    "1. What topics are revolving around Donald Trump and Bernie Sanders' posts separately?\n",
    "2. What are the topic differences between Trump (right-wing popoulist) and Sanders (left-wing populist)?\n",
    "\n",
    "**Aim:**\n",
    "1. The first aim of the assignment is to conduct LDA topic modeling. Identify thematic patterns or politics revolving around Trump or Sanders's posts.\n",
    "2. The second aim is to critically evaluate the results of topic modeling. Try different numbers of topics to see with which settings the topics are more coherent. Critically reflect on the results of LDA topic modeling, discussing them in relation to existing theories about populism.\n",
    "\n",
    "**Data**\n",
    "Two datasets are prepared for this assginment. Tweets from Trump and tweets from Sanders. Students are asked to work on these two datasets.\n",
    "\n",
    "**Methods**\n",
    "1. Word segamentation\n",
    "2. Removing stopwords\n",
    "3. LDA topic modeling\n",
    "4. Topic evaulation (coherence and human evaluation)\n",
    "5. Visualization of results.\n",
    "\n",
    "**References**\n",
    "1. Macaulay, M. (2019). Bernie and the Donald: A comparison of Left-and Right-wing populist discourse. *Populist discourse: International perspectives*, 165-195.\n",
    "\n",
    "\n",
    "\n"
   ]
  },
  {
   "cell_type": "markdown",
   "metadata": {
    "id": "fOAzU-HhhbM9"
   },
   "source": [
    "## Setup"
   ]
  },
  {
   "cell_type": "markdown",
   "metadata": {
    "id": "i4wYU9mJM99W"
   },
   "source": [
    "### Q1. Install necessary libraries, including `tomotopy` and `little_mallet_wrapper`, and import them"
   ]
  },
  {
   "cell_type": "code",
   "execution_count": 1,
   "metadata": {
    "id": "SFH5FrRzhbM-"
   },
   "outputs": [],
   "source": [
    "# Q1 (code)\n",
    "import tomotopy as tp # for toping modeling\n",
    "import little_mallet_wrapper # for functions concerning topic modeling\n",
    "import seaborn # for statistical visualization\n",
    "import glob # for finding pathnames\n",
    "from pathlib import Path # for filesystem paths with semantics appropriate for different operating systems\n",
    "import pandas as pd # for data wrangling "
   ]
  },
  {
   "cell_type": "markdown",
   "metadata": {
    "id": "L4LzJUC3hbNC"
   },
   "source": [
    "## Data preprocessing"
   ]
  },
  {
   "cell_type": "markdown",
   "metadata": {
    "id": "_1qdFBgYM3_Z"
   },
   "source": [
    "### Q2. Load the two datasets and concatenate them\n",
    "\n",
    "The goal is to run topic modelling on the combined dataset of Sanders and Trump's tweets"
   ]
  },
  {
   "cell_type": "code",
   "execution_count": 470,
   "metadata": {
    "id": "Gc1Wj2K3hbNE"
   },
   "outputs": [
    {
     "data": {
      "text/html": [
       "<div>\n",
       "<style scoped>\n",
       "    .dataframe tbody tr th:only-of-type {\n",
       "        vertical-align: middle;\n",
       "    }\n",
       "\n",
       "    .dataframe tbody tr th {\n",
       "        vertical-align: top;\n",
       "    }\n",
       "\n",
       "    .dataframe thead th {\n",
       "        text-align: right;\n",
       "    }\n",
       "</style>\n",
       "<table border=\"1\" class=\"dataframe\">\n",
       "  <thead>\n",
       "    <tr style=\"text-align: right;\">\n",
       "      <th></th>\n",
       "      <th>Username</th>\n",
       "      <th>TweetId</th>\n",
       "      <th>Title</th>\n",
       "      <th>Content</th>\n",
       "    </tr>\n",
       "  </thead>\n",
       "  <tbody>\n",
       "    <tr>\n",
       "      <th>0</th>\n",
       "      <td>SenSanders</td>\n",
       "      <td>1351670845639421952</td>\n",
       "      <td>SenSanders_1351670845639421952</td>\n",
       "      <td>Wealth increase in past 10 months:\\n⬆️$173 bil...</td>\n",
       "    </tr>\n",
       "    <tr>\n",
       "      <th>1</th>\n",
       "      <td>SenSanders</td>\n",
       "      <td>1351259762722279424</td>\n",
       "      <td>SenSanders_1351259762722279424</td>\n",
       "      <td>Amidst massive income and wealth inequality te...</td>\n",
       "    </tr>\n",
       "    <tr>\n",
       "      <th>2</th>\n",
       "      <td>SenSanders</td>\n",
       "      <td>1351242822293319680</td>\n",
       "      <td>SenSanders_1351242822293319680</td>\n",
       "      <td>“We now have the resources, we now have the sk...</td>\n",
       "    </tr>\n",
       "    <tr>\n",
       "      <th>3</th>\n",
       "      <td>SenSanders</td>\n",
       "      <td>1350885541911400448</td>\n",
       "      <td>SenSanders_1350885541911400448</td>\n",
       "      <td>After surviving an attempt on his life, Russia...</td>\n",
       "    </tr>\n",
       "    <tr>\n",
       "      <th>4</th>\n",
       "      <td>SenSanders</td>\n",
       "      <td>1349880150041780224</td>\n",
       "      <td>SenSanders_1349880150041780224</td>\n",
       "      <td>President-Elect Biden's COVID rescue plan will...</td>\n",
       "    </tr>\n",
       "  </tbody>\n",
       "</table>\n",
       "</div>"
      ],
      "text/plain": [
       "     Username              TweetId                           Title  \\\n",
       "0  SenSanders  1351670845639421952  SenSanders_1351670845639421952   \n",
       "1  SenSanders  1351259762722279424  SenSanders_1351259762722279424   \n",
       "2  SenSanders  1351242822293319680  SenSanders_1351242822293319680   \n",
       "3  SenSanders  1350885541911400448  SenSanders_1350885541911400448   \n",
       "4  SenSanders  1349880150041780224  SenSanders_1349880150041780224   \n",
       "\n",
       "                                             Content  \n",
       "0  Wealth increase in past 10 months:\\n⬆️$173 bil...  \n",
       "1  Amidst massive income and wealth inequality te...  \n",
       "2  “We now have the resources, we now have the sk...  \n",
       "3  After surviving an attempt on his life, Russia...  \n",
       "4  President-Elect Biden's COVID rescue plan will...  "
      ]
     },
     "execution_count": 470,
     "metadata": {},
     "output_type": "execute_result"
    }
   ],
   "source": [
    "# Q2 (code)\n",
    "# load datasets\n",
    "sanders_df = pd.read_csv('sanders_tweets.csv', encoding = 'utf-8')\n",
    "trump_df = pd.read_csv('trump_tweets.csv', encoding = 'utf-8')\n",
    "\n",
    "# concatenate datasets\n",
    "\n",
    "combined_df = pd.concat([sanders_df, trump_df], ignore_index = True)\n",
    "combined_df.head()"
   ]
  },
  {
   "cell_type": "markdown",
   "metadata": {
    "id": "Tr84dAOvhbNE"
   },
   "source": [
    "### Q3. Clean the data\n",
    "\n",
    "Transform all tweets to lowercase, remove stopwords, punctuation, and numbers. Add the processed text to a list called `training_data`.\n",
    "Create a list with the content of the tweets (`original_texts`) and a list that allows you to identify both the author of the tweet and its ID (`titles`).\n"
   ]
  },
  {
   "cell_type": "code",
   "execution_count": 394,
   "metadata": {
    "id": "mZlaa28QhbNF"
   },
   "outputs": [
    {
     "name": "stderr",
     "output_type": "stream",
     "text": [
      "[nltk_data] Downloading package stopwords to\n",
      "[nltk_data]     C:\\Users\\User\\AppData\\Roaming\\nltk_data...\n",
      "[nltk_data]   Package stopwords is already up-to-date!\n"
     ]
    }
   ],
   "source": [
    "# Q3 (code)\n",
    "#  First we should make empty lists for the values\n",
    "training_data = []\n",
    "original_texts = []\n",
    "titles = []\n",
    "\n",
    "# Process tweets\n",
    "# Define the unnecessary syntax to remove:\n",
    "text_to_remove = ['https', '//t', 'co/', 'realdonaldtrump']\n",
    "\n",
    "# Process the tweets:\n",
    "for index, row in combined_df.iterrows():\n",
    "    # Get the text from the 'Content' column:\n",
    "    text = row['Content']\n",
    "    \n",
    "    # Process the text:\n",
    "    processed_text = little_mallet_wrapper.process_string(text, numbers='remove')\n",
    "    \n",
    "    # Remove unnecessary symbols or words:\n",
    "    processed_text = ' '.join(word for word in processed_text.split() if word not in text_to_remove)\n",
    "    \n",
    "    # Add processed text to training_data:\n",
    "    training_data.append(processed_text)\n",
    "    \n",
    "    # Add original text to original_texts:\n",
    "    original_texts.append(text)\n",
    "    \n",
    "    # Add title to titles:\n",
    "    titles.append(row['Title'])\n",
    "\n"
   ]
  },
  {
   "cell_type": "code",
   "execution_count": 395,
   "metadata": {},
   "outputs": [
    {
     "data": {
      "text/plain": [
       "(30371, 30371, 30371)"
      ]
     },
     "execution_count": 395,
     "metadata": {},
     "output_type": "execute_result"
    }
   ],
   "source": [
    "len(training_data), len(original_texts), len(titles)"
   ]
  },
  {
   "cell_type": "markdown",
   "metadata": {
    "id": "BeKlV0IehbNH"
   },
   "source": [
    "## LDA topic modelling"
   ]
  },
  {
   "cell_type": "markdown",
   "metadata": {
    "id": "AhTQrfCkHbXS"
   },
   "source": [
    "### Q4. Train a an LDA topic model with `tomotopy`"
   ]
  },
  {
   "cell_type": "code",
   "execution_count": 396,
   "metadata": {
    "id": "lKrCy-P6hbNI"
   },
   "outputs": [
    {
     "name": "stdout",
     "output_type": "stream",
     "text": [
      "Topic Model Training...\n",
      "\n",
      "\n",
      "Iteration: 0\tLog-likelihood: -9.819273473968902\n",
      "Iteration: 10\tLog-likelihood: -9.363208282192062\n",
      "Iteration: 20\tLog-likelihood: -9.176037340716782\n",
      "Iteration: 30\tLog-likelihood: -9.072281189633992\n",
      "Iteration: 40\tLog-likelihood: -9.012705583818754\n",
      "Iteration: 50\tLog-likelihood: -8.968231977118945\n",
      "Iteration: 60\tLog-likelihood: -8.932565410443644\n",
      "Iteration: 70\tLog-likelihood: -8.902187626604338\n",
      "Iteration: 80\tLog-likelihood: -8.880436673356\n",
      "Iteration: 90\tLog-likelihood: -8.860762080441301\n"
     ]
    }
   ],
   "source": [
    "# Q4 (code)\n",
    "# Number of topics to return\n",
    "num_topics = 20\n",
    "# Numer of topic words to print out\n",
    "num_topic_words = 10\n",
    "\n",
    "# Intialize the model\n",
    "model = tp.LDAModel(k=num_topics)\n",
    "\n",
    "# Add each document to the model, after splitting it up into words\n",
    "for text in training_data:\n",
    "    model.add_doc(text.strip().split())\n",
    "\n",
    "print(\"Topic Model Training...\\n\\n\")\n",
    "# Iterate over the data 10 times\n",
    "iterations = 10\n",
    "for i in range(0, 100, iterations):\n",
    "    model.train(iterations)\n",
    "    print(f'Iteration: {i}\\tLog-likelihood: {model.ll_per_word}')"
   ]
  },
  {
   "cell_type": "markdown",
   "metadata": {
    "id": "gucG5gYghbNI"
   },
   "source": [
    "### Q5. Print out the top words for each topic and manually evaluate their coherence\n"
   ]
  },
  {
   "cell_type": "code",
   "execution_count": 397,
   "metadata": {
    "id": "fu_F1j17hbNJ"
   },
   "outputs": [
    {
     "name": "stdout",
     "output_type": "stream",
     "text": [
      "\n",
      "Topic Model Results:\n",
      "\n",
      "\n",
      "✨Topic 0✨\n",
      "\n",
      "news foxnews cnn watch trump fox thank ratings great oann\n",
      "\n",
      "✨Topic 1✨\n",
      "\n",
      "thank great maga night big see last mike rally carolina\n",
      "\n",
      "✨Topic 2✨\n",
      "\n",
      "health care people bill americans senate republicans public million right\n",
      "\n",
      "✨Topic 3✨\n",
      "\n",
      "tax trump class people security working social street cut americans\n",
      "\n",
      "✨Topic 4✨\n",
      "\n",
      "trump president ever history years best election record republican economy\n",
      "\n",
      "✨Topic 5✨\n",
      "\n",
      "trump president new book order law media news use let\n",
      "\n",
      "✨Topic 6✨\n",
      "\n",
      "jobs american new trade economy workers small back president coronavirus\n",
      "\n",
      "✨Topic 7✨\n",
      "\n",
      "health workers care people must wage country america need million\n",
      "\n",
      "✨Topic 8✨\n",
      "\n",
      "border must war wall security country congress end immigration democrats\n",
      "\n",
      "✨Topic 9✨\n",
      "\n",
      "great total endorsement state vote complete strong military amendment vets\n",
      "\n",
      "✨Topic 10✨\n",
      "\n",
      "president trump schiff impeachment house call foxnews whistleblower ukraine adam\n",
      "\n",
      "✨Topic 11✨\n",
      "\n",
      "president united trump states people american america today jim world\n",
      "\n",
      "✨Topic 12✨\n",
      "\n",
      "must change people climate energy together country right fight stand\n",
      "\n",
      "✨Topic 13✨\n",
      "\n",
      "great america thank president house white many make country happy\n",
      "\n",
      "✨Topic 14✨\n",
      "\n",
      "election vote puerto voter voting ballots rico fraud via votes\n",
      "\n",
      "✨Topic 15✨\n",
      "\n",
      "fake news media people never would even many like bad\n",
      "\n",
      "✨Topic 16✨\n",
      "\n",
      "whitehouse today thank honor president great women live men god\n",
      "\n",
      "✨Topic 17✨\n",
      "\n",
      "china dollars drug trade deal big money korea states companies\n",
      "\n",
      "✨Topic 18✨\n",
      "\n",
      "fbi trump collusion witch court hunt russia mueller hillary campaign\n",
      "\n",
      "✨Topic 19✨\n",
      "\n",
      "democrats biden joe left nothing radical pelosi democrat impeachment people\n",
      "\n"
     ]
    }
   ],
   "source": [
    "# Q5a (code)\n",
    "# Print out top 10 words for each topic\n",
    "print(\"\\nTopic Model Results:\\n\\n\")\n",
    "\n",
    "topics = []\n",
    "topic_individual_words = []\n",
    "for topic_number in range(0, num_topics):\n",
    "    topic_words = ' '.join(word for word, prob in model.get_topic_words(topic_id=topic_number, top_n=num_topic_words))\n",
    "    topics.append(topic_words)\n",
    "    topic_individual_words.append(topic_words.split())\n",
    "    print(f\"✨Topic {topic_number}✨\\n\\n{topic_words}\\n\")"
   ]
  },
  {
   "cell_type": "markdown",
   "metadata": {},
   "source": [
    "### Manual evaluation of topic coherence."
   ]
  },
  {
   "cell_type": "markdown",
   "metadata": {},
   "source": [
    "The topics overall show I would say moderate to good coherence with their respective themes, but we could observe that the coherence between topics varies, with some exhibiting clear thematic consistency and relevance among keywords, while others appear to be more loosely connected or ambiguous. Perhaps for the later topics we would need a clearer understanding of the context to understand the relevance and coherence. Topics like healthcare legislation (Topic 2), tax policies (Topic 3), and border security (Topic 8) demonstrate high coherence, as the keywords within each topic align closely with specific policy areas or issues. Other topics such as expressions of gratitude (Topic 1), discussions on President Trump's tenure (Topic 4), and concerns about fake news (Topic 15) display coherence through consistent themes and sentiments across keywords. However, topics related to electoral fraud (Topic 14) and controversies involving the FBI (Topic 18) may exhibit lower coherence, as they encompass a broader range of issues and lack clear thematic focus."
   ]
  },
  {
   "cell_type": "markdown",
   "metadata": {},
   "source": [
    "## Q5b \n",
    "### Describe what each topic is about. What ideas, values, or situations do these keywords refer to?\n"
   ]
  },
  {
   "cell_type": "markdown",
   "metadata": {},
   "source": [
    "\n",
    "\n",
    "Topic 0: This topic seems to be about news media outlets, including specific channels such as Fox News, CNN, and OANN, and their coverage of President Trump.\n",
    "\n",
    "\n",
    "Topic 1: We could observe here expressions of gratitude (\"thank\") and support to the \"Make America Great Again\" (MAGA) movement, and it also mentions rallies and events.\n",
    "\n",
    "Topic 2: Health care is a clear theme of this topic. It consists of discussions around bills, Americans, Republicans and the public's access to health care services.\n",
    "\n",
    "Topic 3: This topic relates to taxes, mentions of Trump, social security, the working class, and tax cuts.\n",
    "\n",
    "Topic 4: It focuses on Trump's achievements as a republican President, in the economy and elections.\n",
    "\n",
    "Topic 5: This topic is about law and order perhaps connected to actions of Trump in this regard, it mentions his new book and interactions with news and media.\n",
    "\n",
    "Topic 6: This topic revolves around jobs, american economy, trade, workers and the impact of coronavirous pandemic.\n",
    "\n",
    "Topic 7: This topic is also about health care, mainly health workers, wages and the country's need for support and resources.\n",
    "\n",
    "Topic 8: This topic addresses issues related to security, borders, war and imigration, mentioning democrats' stances and the congress perhaps because the tweets critic their actions. \n",
    "\n",
    "Topic 9: This topic mentions votes, and emphasizes on endorsments, and the importance of supporting the military and veterans.\n",
    "\n",
    "Topic 10: This topic revolves around Trump's involvement in various political events and controversies, as well as impeachment proceedings and interactions with the media.\n",
    "\n",
    "Topic 11: This topic seems to have a broader theme of national identity, it mentions the presidency, United States and the american people.\n",
    "\n",
    "Topic 12: This topic addresses the need for change particularly in relation to climate, energy, and collective action.\n",
    "\n",
    "Topic 13: This topic expresses gratitude towards America, the president, and the White House, emphasizing positivity and happiness.\r\n",
    "\r\n",
    "Topic 14: This topic relates to elections, voting, and concerns about voter fraud, particularly in Puerto Rico.\r\n",
    "\r\n",
    "Topic 15: This topic discusses fake news, media, and skepticism towards information dissemination.\r\n",
    "\r\n",
    "Topic 16: This topic highlights events at the White House, expressing gratitude and emphasizing honor and respect.\r\n",
    "\r\n",
    "Topic 17: This topic addresses international trade, mentioning China, Korea, dollars, and deals.\r\n",
    "\r\n",
    "Topic 18: This topic pertains to legal matters, including the FBI, collusion allegations, the Russia investigation, and the Hillary Clinton campaign.\r\n",
    "\r\n",
    "Topic 19: This topic discusses the Democratic Party, including mentions of Joe Biden, Nancy Pelosi, impeachment, and leftist ideology.\n",
    "aneachment, and leftist ideology.\r\n",
    "\r\n",
    "\r\n",
    "\r\n",
    "\r\n",
    "\r\n",
    "\n"
   ]
  },
  {
   "cell_type": "markdown",
   "metadata": {
    "id": "rSeonT734KsL"
   },
   "source": [
    "\n",
    "\n"
   ]
  },
  {
   "cell_type": "markdown",
   "metadata": {
    "id": "R_Cv23XVAj8E"
   },
   "source": [
    "## Topic coherence\n",
    "\n",
    "Use `tomotopy`'s [`.coherence()`](https://bab2min.github.io/tomotopy/v0.10.0/en/coherence.html) function to automatically calculate the topic coherence.\n",
    "\n",
    "The coherence value can vary from `0` (no coherence) to `1` (maximum coherence). Interpret the results and, if needed, retrain the model using a different number of topics."
   ]
  },
  {
   "cell_type": "code",
   "execution_count": 398,
   "metadata": {
    "id": "gzDijy831LHb"
   },
   "outputs": [
    {
     "name": "stdout",
     "output_type": "stream",
     "text": [
      "==== Coherence : c_v ====\n",
      "Average: 0.5875158878788352 \n",
      "Per Topic: [0.5983211264014244, 0.5875759690999984, 0.6034897863864899, 0.5778499573469162, 0.479957839846611, 0.43180184811353683, 0.5231034725904464, 0.6331777274608612, 0.5552518099546433, 0.7635870516300202, 0.673100671172142, 0.4449049383401871, 0.5950305491685868, 0.4474319636821747, 0.627893203496933, 0.5928568117320537, 0.6395718023180962, 0.6388864204287529, 0.730694130063057, 0.6058306783437729]\n",
      "\n"
     ]
    }
   ],
   "source": [
    "# There are different metrics for coherence, we choose `c_v`\n",
    "\n",
    "coh = tp.coherence.Coherence(model, coherence='c_v')\n",
    "average_coherence = coh.get_score()\n",
    "coherence_per_topic = [coh.get_score(topic_id=k) for k in range(model.k)]\n",
    "\n",
    "print('==== Coherence : {} ===='.format('c_v'))\n",
    "print('Average:', average_coherence, '\\nPer Topic:', coherence_per_topic)\n",
    "print()"
   ]
  },
  {
   "cell_type": "markdown",
   "metadata": {
    "id": "DrEHnkB-Cs4_"
   },
   "source": [
    "### Q6. Interpret topic coherence\n",
    "\n",
    "Report the following:\n",
    "- number of topics you initially used to train the model and the coherence score you got\n",
    "- changes made to the number of topics and new coherence scores obtained"
   ]
  },
  {
   "cell_type": "markdown",
   "metadata": {
    "id": "hnXNA_m2DD0A"
   },
   "source": [
    "# Q6 \n",
    " 5 topics ----- Coherence : c_v -----\n",
    "\n",
    "\n",
    " At the beginning I trained the model with five topics and the average coherence score were approximately 0.5. The value is showing that the topics are moderate coherened and could be inproved. I started by decreasing the topic to 3 but I noticed that the coherence score became worse, so I started to increase the number of topics. I finally chose to go with 20 topics as the coherence is improved by more then 10% and the topics are in a number that I can evaluate and reflect on them also manually. I noticed that more topics could aslo give me a better score but would not be so easy in the time span we have to interpet them manually. \n",
    " \n",
    " 20 topics ----- Coherence : c_v -----\n",
    "\n",
    "  Average: 0.5875158878788352 \n",
    "\n",
    "  \r\n",
    "Per Topic: [0.5983211264014244, 0.5875759690999984, 0.6034897863864899, 0.5778499573469162, 0.479957839846611, 0.43180184811353683, 0.5231034725904464, 0.6331777274608612, 0.5552518099546433, 0.7635870516300202, 0.673100671172142, 0.4449049383401871, 0.5950305491685868, 0.4474319636821747, 0.627893203496933, 0.5928568117320537, 0.6395718023180962, 0.6388864204287529, 0.730694130063057, 0.6058306783437729]\n",
    "\n"
   ]
  },
  {
   "cell_type": "markdown",
   "metadata": {
    "id": "PpZbWHxfBr1E"
   },
   "source": [
    "### X1. Optional question 1\n",
    "(This question is not compulsory, it only allows you to get an extra point.)\n",
    "\n",
    "Create a function to plot the average coherence for models with different number of topics."
   ]
  },
  {
   "cell_type": "code",
   "execution_count": 399,
   "metadata": {},
   "outputs": [
    {
     "data": {
      "image/png": "[encoded data removed]",
      "text/plain": [
       "<Figure size 1000x600 with 1 Axes>"
      ]
     },
     "metadata": {},
     "output_type": "display_data"
    }
   ],
   "source": [
    "def plot_coherence(training_data, max_topics, iterations):\n",
    "    coherence_scores = []\n",
    "    for num_topics in range(1, max_topics + 1):\n",
    "        \n",
    "        # Initialize the model:\n",
    "        model = tp.LDAModel(k=num_topics)\n",
    "        # Add documents to the model:\n",
    "        for doc in training_data:\n",
    "            words = doc.split()\n",
    "            model.add_doc(words)\n",
    "        # Train the model:\n",
    "        for i in range(0, iterations, 10):\n",
    "            model.train(10)\n",
    "        \n",
    "        # Calculate coherence:\n",
    "        coh = tp.coherence.Coherence(model, coherence='c_v')\n",
    "        coherence_scores.append(coh.get_score())\n",
    "        \n",
    "    # Plot:\n",
    "    plt.figure(figsize=(10, 6))\n",
    "    plt.plot(range(1, max_topics + 1), coherence_scores)\n",
    "    plt.xlabel('Number of Topics')\n",
    "    plt.ylabel('Average Coherence')\n",
    "    plt.title('Average Coherence vs. Number of Topics')\n",
    "    plt.show()\n",
    "\n",
    "plot_coherence(training_data, max_topics=20, iterations=100)"
   ]
  },
  {
   "cell_type": "markdown",
   "metadata": {
    "id": "zYY_TIOyDLnN"
   },
   "source": [
    "### Q7. Topic distributions\n",
    "Calculate the topic distributions for all tweets and get the top documents for some topics (between 2 and 5) that you think could be more representative of Sanders or Trump."
   ]
  },
  {
   "cell_type": "code",
   "execution_count": 400,
   "metadata": {
    "id": "D4CQGxl6UrfL"
   },
   "outputs": [],
   "source": [
    "# Q7a (code)\n",
    "topic_distributions = [list(doc.get_topic_dist()) for doc in model.docs]\n",
    "from IPython.display import Markdown, display\n",
    "import re\n",
    "\n",
    "\n",
    "def make_md(string):\n",
    "    display(Markdown(str(string)))\n",
    "\n",
    "def get_top_docs(docs, topic_distributions, topic_index, n=5):\n",
    "    if topic_index >= len(topics):\n",
    "        print(\"Error: Invalid topic index.\")\n",
    "        return\n",
    "    \n",
    "    topic_words = topics[topic_index]\n",
    "    make_md(f\"### ✨Topic {topic_index}✨\\n\\n{topic_words}\\n\\n\")\n",
    "    print(\"---\")\n",
    "    \n",
    "    sorted_data = sorted([(distribution[topic_index], document) for distribution, document in zip(topic_distributions, docs)], reverse=True)\n",
    "\n",
    "    for probability, doc in sorted_data[:n]:\n",
    "        # Make topic words bolded\n",
    "        for word in topic_words.split():\n",
    "            if isinstance(doc, str) and word in doc.lower():\n",
    "                doc = re.sub(f\"\\\\b{word}\\\\b\", f\"**{word}**\", doc, re.IGNORECASE)\n",
    "\n",
    "        make_md(f'✨  \\n**Topic Probability**: {probability}  \\n**Document**: {doc}\\n\\n')\n"
   ]
  },
  {
   "cell_type": "markdown",
   "metadata": {},
   "source": [
    "### Topics that it is my hypothesis that there are more related to Trump."
   ]
  },
  {
   "cell_type": "code",
   "execution_count": 401,
   "metadata": {},
   "outputs": [
    {
     "data": {
      "text/markdown": [
       "### ✨Topic 15✨\n",
       "\n",
       "fake news media people never would even many like bad\n",
       "\n"
      ],
      "text/plain": [
       "<IPython.core.display.Markdown object>"
      ]
     },
     "metadata": {},
     "output_type": "display_data"
    },
    {
     "name": "stdout",
     "output_type": "stream",
     "text": [
      "---\n"
     ]
    },
    {
     "data": {
      "text/markdown": [
       "✨  \n",
       "**Topic Probability**: 0.9246641397476196  \n",
       "**Document**: @realDonaldTrump_1263977067080830977\n",
       "\n"
      ],
      "text/plain": [
       "<IPython.core.display.Markdown object>"
      ]
     },
     "metadata": {},
     "output_type": "display_data"
    },
    {
     "data": {
      "text/markdown": [
       "✨  \n",
       "**Topic Probability**: 0.9246641397476196  \n",
       "**Document**: @realDonaldTrump_1263669433366728704\n",
       "\n"
      ],
      "text/plain": [
       "<IPython.core.display.Markdown object>"
      ]
     },
     "metadata": {},
     "output_type": "display_data"
    },
    {
     "data": {
      "text/markdown": [
       "✨  \n",
       "**Topic Probability**: 0.9246641397476196  \n",
       "**Document**: @realDonaldTrump_1248591409743003650\n",
       "\n"
      ],
      "text/plain": [
       "<IPython.core.display.Markdown object>"
      ]
     },
     "metadata": {},
     "output_type": "display_data"
    },
    {
     "data": {
      "text/markdown": [
       "✨  \n",
       "**Topic Probability**: 0.921387255191803  \n",
       "**Document**: @realDonaldTrump_1243756098965946368\n",
       "\n"
      ],
      "text/plain": [
       "<IPython.core.display.Markdown object>"
      ]
     },
     "metadata": {},
     "output_type": "display_data"
    },
    {
     "data": {
      "text/markdown": [
       "✨  \n",
       "**Topic Probability**: 0.921387255191803  \n",
       "**Document**: @realDonaldTrump_1243755076214231040\n",
       "\n"
      ],
      "text/plain": [
       "<IPython.core.display.Markdown object>"
      ]
     },
     "metadata": {},
     "output_type": "display_data"
    }
   ],
   "source": [
    "get_top_docs(titles, topic_distributions, topic_index=15, n=5)"
   ]
  },
  {
   "cell_type": "code",
   "execution_count": 471,
   "metadata": {},
   "outputs": [
    {
     "data": {
      "text/markdown": [
       "### ✨Topic 6✨\n",
       "\n",
       "jobs american new trade economy workers small back president coronavirus\n",
       "\n"
      ],
      "text/plain": [
       "<IPython.core.display.Markdown object>"
      ]
     },
     "metadata": {},
     "output_type": "display_data"
    },
    {
     "name": "stdout",
     "output_type": "stream",
     "text": [
      "---\n"
     ]
    },
    {
     "data": {
      "text/markdown": [
       "✨  \n",
       "**Topic Probability**: 0.9121865034103394  \n",
       "**Document**: @realDonaldTrump_1251547205476986880\n",
       "\n"
      ],
      "text/plain": [
       "<IPython.core.display.Markdown object>"
      ]
     },
     "metadata": {},
     "output_type": "display_data"
    },
    {
     "data": {
      "text/markdown": [
       "✨  \n",
       "**Topic Probability**: 0.900107204914093  \n",
       "**Document**: @realDonaldTrump_1230880093322403840\n",
       "\n"
      ],
      "text/plain": [
       "<IPython.core.display.Markdown object>"
      ]
     },
     "metadata": {},
     "output_type": "display_data"
    },
    {
     "data": {
      "text/markdown": [
       "✨  \n",
       "**Topic Probability**: 0.8734517693519592  \n",
       "**Document**: @realDonaldTrump_893243147580473344\n",
       "\n"
      ],
      "text/plain": [
       "<IPython.core.display.Markdown object>"
      ]
     },
     "metadata": {},
     "output_type": "display_data"
    },
    {
     "data": {
      "text/markdown": [
       "✨  \n",
       "**Topic Probability**: 0.8734517693519592  \n",
       "**Document**: @realDonaldTrump_1182682269804310529\n",
       "\n"
      ],
      "text/plain": [
       "<IPython.core.display.Markdown object>"
      ]
     },
     "metadata": {},
     "output_type": "display_data"
    },
    {
     "data": {
      "text/markdown": [
       "✨  \n",
       "**Topic Probability**: 0.855614960193634  \n",
       "**Document**: @realDonaldTrump_1241571407361912832\n",
       "\n"
      ],
      "text/plain": [
       "<IPython.core.display.Markdown object>"
      ]
     },
     "metadata": {},
     "output_type": "display_data"
    }
   ],
   "source": [
    "get_top_docs(titles, topic_distributions, topic_index =6, n=5)"
   ]
  },
  {
   "cell_type": "markdown",
   "metadata": {},
   "source": [
    "## Topic I think are more relevant to Sanders"
   ]
  },
  {
   "cell_type": "code",
   "execution_count": 403,
   "metadata": {},
   "outputs": [
    {
     "data": {
      "text/markdown": [
       "### ✨Topic 2✨\n",
       "\n",
       "health care people bill americans senate republicans public million right\n",
       "\n"
      ],
      "text/plain": [
       "<IPython.core.display.Markdown object>"
      ]
     },
     "metadata": {},
     "output_type": "display_data"
    },
    {
     "name": "stdout",
     "output_type": "stream",
     "text": [
      "---\n"
     ]
    },
    {
     "data": {
      "text/markdown": [
       "✨  \n",
       "**Topic Probability**: 0.880781352519989  \n",
       "**Document**: SenSanders_890291753332465664\n",
       "\n"
      ],
      "text/plain": [
       "<IPython.core.display.Markdown object>"
      ]
     },
     "metadata": {},
     "output_type": "display_data"
    },
    {
     "data": {
      "text/markdown": [
       "✨  \n",
       "**Topic Probability**: 0.880781352519989  \n",
       "**Document**: SenSanders_860214311330992128\n",
       "\n"
      ],
      "text/plain": [
       "<IPython.core.display.Markdown object>"
      ]
     },
     "metadata": {},
     "output_type": "display_data"
    },
    {
     "data": {
      "text/markdown": [
       "✨  \n",
       "**Topic Probability**: 0.8728283047676086  \n",
       "**Document**: SenSanders_710149934109081600\n",
       "\n"
      ],
      "text/plain": [
       "<IPython.core.display.Markdown object>"
      ]
     },
     "metadata": {},
     "output_type": "display_data"
    },
    {
     "data": {
      "text/markdown": [
       "✨  \n",
       "**Topic Probability**: 0.8637382984161377  \n",
       "**Document**: SenSanders_924661437062156288\n",
       "\n"
      ],
      "text/plain": [
       "<IPython.core.display.Markdown object>"
      ]
     },
     "metadata": {},
     "output_type": "display_data"
    },
    {
     "data": {
      "text/markdown": [
       "✨  \n",
       "**Topic Probability**: 0.8637382984161377  \n",
       "**Document**: SenSanders_884898076795842560\n",
       "\n"
      ],
      "text/plain": [
       "<IPython.core.display.Markdown object>"
      ]
     },
     "metadata": {},
     "output_type": "display_data"
    }
   ],
   "source": [
    "get_top_docs(titles, topic_distributions, topic_index= 2, n=5)"
   ]
  },
  {
   "cell_type": "code",
   "execution_count": 475,
   "metadata": {},
   "outputs": [
    {
     "data": {
      "text/markdown": [
       "### ✨Topic 3✨\n",
       "\n",
       "tax trump class people security working social street cut americans\n",
       "\n"
      ],
      "text/plain": [
       "<IPython.core.display.Markdown object>"
      ]
     },
     "metadata": {},
     "output_type": "display_data"
    },
    {
     "name": "stdout",
     "output_type": "stream",
     "text": [
      "---\n"
     ]
    },
    {
     "data": {
      "text/markdown": [
       "✨  \n",
       "**Topic Probability**: 0.9272794127464294  \n",
       "**Document**: SenSanders_1094303164805799936\n",
       "\n"
      ],
      "text/plain": [
       "<IPython.core.display.Markdown object>"
      ]
     },
     "metadata": {},
     "output_type": "display_data"
    },
    {
     "data": {
      "text/markdown": [
       "✨  \n",
       "**Topic Probability**: 0.9243694543838501  \n",
       "**Document**: SenSanders_1202287585684529152\n",
       "\n"
      ],
      "text/plain": [
       "<IPython.core.display.Markdown object>"
      ]
     },
     "metadata": {},
     "output_type": "display_data"
    },
    {
     "data": {
      "text/markdown": [
       "✨  \n",
       "**Topic Probability**: 0.9140516519546509  \n",
       "**Document**: SenSanders_943172894137438208\n",
       "\n"
      ],
      "text/plain": [
       "<IPython.core.display.Markdown object>"
      ]
     },
     "metadata": {},
     "output_type": "display_data"
    },
    {
     "data": {
      "text/markdown": [
       "✨  \n",
       "**Topic Probability**: 0.9140516519546509  \n",
       "**Document**: SenSanders_1064958747422982144\n",
       "\n"
      ],
      "text/plain": [
       "<IPython.core.display.Markdown object>"
      ]
     },
     "metadata": {},
     "output_type": "display_data"
    },
    {
     "data": {
      "text/markdown": [
       "✨  \n",
       "**Topic Probability**: 0.9036344885826111  \n",
       "**Document**: SenSanders_1094976717725335552\n",
       "\n"
      ],
      "text/plain": [
       "<IPython.core.display.Markdown object>"
      ]
     },
     "metadata": {},
     "output_type": "display_data"
    }
   ],
   "source": [
    "get_top_docs(titles, topic_distributions, topic_index = 3,n=5)"
   ]
  },
  {
   "cell_type": "code",
   "execution_count": 405,
   "metadata": {},
   "outputs": [
    {
     "data": {
      "text/markdown": [
       "### ✨Topic 8✨\n",
       "\n",
       "border must war wall security country congress end immigration democrats\n",
       "\n"
      ],
      "text/plain": [
       "<IPython.core.display.Markdown object>"
      ]
     },
     "metadata": {},
     "output_type": "display_data"
    },
    {
     "name": "stdout",
     "output_type": "stream",
     "text": [
      "---\n"
     ]
    },
    {
     "data": {
      "text/markdown": [
       "✨  \n",
       "**Topic Probability**: 0.9296379685401917  \n",
       "**Document**: SenSanders_1096096303795396608\n",
       "\n"
      ],
      "text/plain": [
       "<IPython.core.display.Markdown object>"
      ]
     },
     "metadata": {},
     "output_type": "display_data"
    },
    {
     "data": {
      "text/markdown": [
       "✨  \n",
       "**Topic Probability**: 0.9208391308784485  \n",
       "**Document**: SenSanders_1090701532797038592\n",
       "\n"
      ],
      "text/plain": [
       "<IPython.core.display.Markdown object>"
      ]
     },
     "metadata": {},
     "output_type": "display_data"
    },
    {
     "data": {
      "text/markdown": [
       "✨  \n",
       "**Topic Probability**: 0.9173958897590637  \n",
       "**Document**: @realDonaldTrump_1289731760838721536\n",
       "\n"
      ],
      "text/plain": [
       "<IPython.core.display.Markdown object>"
      ]
     },
     "metadata": {},
     "output_type": "display_data"
    },
    {
     "data": {
      "text/markdown": [
       "✨  \n",
       "**Topic Probability**: 0.9033322930335999  \n",
       "**Document**: SenSanders_1067903350337953792\n",
       "\n"
      ],
      "text/plain": [
       "<IPython.core.display.Markdown object>"
      ]
     },
     "metadata": {},
     "output_type": "display_data"
    },
    {
     "data": {
      "text/markdown": [
       "✨  \n",
       "**Topic Probability**: 0.8999966382980347  \n",
       "**Document**: @realDonaldTrump_953067686313037829\n",
       "\n"
      ],
      "text/plain": [
       "<IPython.core.display.Markdown object>"
      ]
     },
     "metadata": {},
     "output_type": "display_data"
    }
   ],
   "source": [
    "get_top_docs(titles, topic_distributions, topic_index = 8, n=5)"
   ]
  },
  {
   "cell_type": "markdown",
   "metadata": {
    "id": "1nyQ7GnIDrWr"
   },
   "source": [
    "Interpret the results above. Are there topics that have top tweets only by one politician? Why do you think these topics are more representative of one of the two politicians' views?"
   ]
  },
  {
   "cell_type": "markdown",
   "metadata": {
    "id": "qNXy1koX6sFN"
   },
   "source": [
    "## Q7b (words)\n",
    "Topic 15: This topic seems to be dominated by tweets from @realDonaldTrump, as all the top tweets are attributed to him. The content of these tweets mentions phrases like \"fake news,\" \"media,\" and \"people,\" which are often associated with President Trump's rhetoric regarding the media and criticism against him.\n",
    "\n",
    "Topic 6: This topic seems to be dominated by tweets from @realDonaldTrump, as four out of the five top tweets are attributed to him. The content of these tweets includes phrases related to jobs, the American economy, trade, and the coronavirus. These are all topics that President Trump has frequently discussed, particularly in the context of his administration's economic policies and response to the COVID-19 pandemic.\n",
    "\n",
    "Topic 2: On the other hand, this topic appears to be more representative of Senator Sanders' views, as all the top tweets are attributed to him. The content of these tweets includes phrases related to healthcare, public, and Republicans, which are consistent with Senator Sanders' advocacy for universal healthcare and criticism of Republican healthcare policies.\n",
    "\n",
    "Topic 3: This topic is also dominated by tweets from Sanders, and it is also relevant with his rhetoric about tax cuts for working americans. The content mentions terms like \"tax\", \"working\", \"cut\", which are common to his advocacy in support of the working class. \n",
    "\r\n",
    "\r\n",
    "Topic 8: This topic appears to have a mix of tweets from both @realDonaldTrump and SenSanders, with one tweet each from the two politicians. The content of these tweets includes phrases related to the border, security, immigration, and Democrats. While one of the top tweets is attributed to President Trump, the other is attributed to Senator Sanders. This suggests that the topic may be relevant to both politicians' views and agendas, albeit to varying degrees."
   ]
  },
  {
   "cell_type": "markdown",
   "metadata": {
    "id": "y4LxDb31D01p"
   },
   "source": [
    "## Large scale analysis"
   ]
  },
  {
   "cell_type": "markdown",
   "metadata": {
    "id": "NXmHmjaHI2fD"
   },
   "source": [
    "### Q8. Create a random sample of the whole dataset and visualize the topic distributions for the sampled tweets"
   ]
  },
  {
   "cell_type": "code",
   "execution_count": 407,
   "metadata": {
    "id": "SQdtQCJQiBUw",
    "scrolled": true
   },
   "outputs": [],
   "source": [
    "# Crete a sample of tweets\n",
    "import seaborn as sns\n",
    "from random import sample\n",
    "\n",
    "target_labels = sample(titles, 100)\n"
   ]
  },
  {
   "cell_type": "code",
   "execution_count": 408,
   "metadata": {},
   "outputs": [
    {
     "data": {
      "image/png": "[encoded data removed]",
      "text/plain": [
       "<Figure size 1200x800 with 2 Axes>"
      ]
     },
     "metadata": {},
     "output_type": "display_data"
    }
   ],
   "source": [
    "# Function to get the topic distribution for each tweet in the random sample\n",
    "def visualize_topic_distributions(topic_distributions,titles, target_labels):\n",
    "    indices = [i for i, title in enumerate(titles) if title in target_labels and i < len(topic_distributions)]\n",
    "    sample_t_distributions = [topic_distributions[i] for i in indices]\n",
    "    topic_df = pd.DataFrame(sample_t_distributions)\n",
    "    \n",
    "    # Create a heatmap\n",
    "    plt.figure(figsize=(12, 8))\n",
    "    sns.heatmap(topic_df, cmap=\"YlGnBu\", linewidth = .6, xticklabels=True)\n",
    "    plt.xlabel('Topic')\n",
    "    plt.ylabel('Tweet Index')\n",
    "    plt.title('Topic Relevance Heatmap for Random Sample of Tweets')\n",
    "    plt.show()\n",
    "\n",
    "\n",
    "# Tip: to display more than 20 tweets you have to change the values of `dim =` in sns.heatmap() \n",
    "# sorry but in the documentation of sns.heatmap there is no argument \"dim\"\n",
    "visualize_topic_distributions(topic_distributions, titles, target_labels)    "
   ]
  },
  {
   "cell_type": "markdown",
   "metadata": {},
   "source": [
    "### Difficulty in reading this heatmap.\n",
    "\n",
    "I don't know if that is what you ask us to do but I find it really difficult to intepret this heatmap, as we don't know which tweet belongs to each politician. Therefore, I will try something else that makes more sense to me."
   ]
  },
  {
   "cell_type": "code",
   "execution_count": 474,
   "metadata": {
    "id": "Af2ejUqBhtm9"
   },
   "outputs": [
    {
     "data": {
      "image/png": "[encoded data removed]",
      "text/plain": [
       "<Figure size 1200x800 with 2 Axes>"
      ]
     },
     "metadata": {},
     "output_type": "display_data"
    }
   ],
   "source": [
    "# Q8 (code)\n",
    "import re\n",
    "def visualize_topic_distributions_with_politicians(topic_distributions, titles, target_labels):\n",
    "    indices = [i for i, title in enumerate(titles) if title in target_labels and i < len(topic_distributions)]\n",
    "\n",
    "    sample_t_distributions = [topic_distributions[i] for i in indices]\n",
    "    # Ensure all titles are strings\n",
    "    titles = [str(title) for title in titles]\n",
    "    \n",
    "    # Extract sample topic distributions and politician usernames\n",
    "    sample_politicians_usernames =  [titles[i].split('_')[0] for i in indices]\n",
    "    topic_df = pd.DataFrame(sample_t_distributions, columns=[f'Topic {i+1}' for i in range(len(sample_t_distributions[0]))])\n",
    "    topic_df['politician'] = sample_politicians_usernames\n",
    "\n",
    "    # We have to aggregate and find the mean distribution for every topic for each of the politician in order to have numeric values to plot\n",
    "    pivot_df = topic_df.pivot_table(index = 'politician', aggfunc = 'mean').reset_index()\n",
    "    pivot_df = pivot_df.set_index('politician')\n",
    "    # Create a heatmap\n",
    "    plt.figure(figsize=(12, 8))\n",
    "    sns.heatmap(pivot_df, cmap=\"YlGnBu\", linewidth = .6, xticklabels=True)\n",
    "    plt.xlabel('Topic')\n",
    "    plt.ylabel('Politicians')\n",
    "    plt.title('Topic Relevance Heatmap for Random Sample of Tweets')\n",
    "    plt.show()\n",
    "\n",
    "\n",
    "\n",
    "\n",
    "\n",
    "visualize_topic_distributions_with_politicians(topic_distributions, titles, target_labels)"
   ]
  },
  {
   "cell_type": "markdown",
   "metadata": {
    "id": "trwbJnmGE2VR"
   },
   "source": [
    "### Q9. Interpret the heatmap\n",
    "Do you see any pattern in the probability distributions of topics for each politician?\n",
    "\n",
    "Are there topics that are more likely for one of the two politicians?"
   ]
  },
  {
   "cell_type": "markdown",
   "metadata": {
    "id": "-NPJXZUIIpor"
   },
   "source": [
    "## Q9 (words)\n",
    "\n",
    "\n",
    "The heatmap for topic relevance for each politician can give us an better idea of the themes and discussions that are more important for Trump and for Sanders respectively. By doing the topic probability distributions for each politician, we can actually see for each topic how relevant is each of the politicians. Firsty, we can see that Topic 14 (13 for us as the index before was 0 and now 1), 16  annd 17 are more representative of Trump tweets. This is reasonable as the topics revolve around his expressions of gratitude towards the United States, the White House and positive attiTude to national pride and honor, as well as opinions and critiques around news and media. Topic 2 and 11 are also representative of Trump and they are revolving around his involvement in controversies of political events,such as impeachement and media representations, as well as his gratitude and support to the MAGA movement. \n",
    "As we can see the topics that are probably more relevant to Sanders tweets, topics 3, 4 and 8 revolve around the health care system (3,8), mentioning the working class and the responsability of the goverment for supporting and giving resources for health care, as well as for health care workers and their wages. Topic 4 is also indicative of Sanders political left-wing rhetoric, mentioning again the working class people, social security and tax cuts. \n",
    "Overall, with this adjustion to plot the probability distributions of topic for each politician, we can more easily read and interpret the heatmap. Despite the small sample of tweets (100 tweets) and its imbalance, we see that topics related to Trump align with our knowledge of his political rhetoric, and the same thing happens with the topics that are more relevant to Sanders."
   ]
  },
  {
   "cell_type": "markdown",
   "metadata": {
    "id": "uYZ9qZ2CEACM"
   },
   "source": [
    "### X2. Optional question 2\n",
    "(This question is not compulsory, it only allows you to get an extra point)\n",
    "\n",
    "Make the sample balanced, with 50 tweets by Trump and 50 by Sanders."
   ]
  },
  {
   "cell_type": "code",
   "execution_count": 453,
   "metadata": {
    "id": "oVJBSdeP8MYK"
   },
   "outputs": [],
   "source": [
    "# X2 (code)\n",
    "# Filter tweets by Trump and Sanders\n",
    "import random\n",
    "\n",
    "\n",
    "trump_tweets = []\n",
    "sanders_tweets = []\n",
    "\n",
    "# Iterate through titles and select tweets for each politician\n",
    "for title in titles:\n",
    "    if  title.split('_')[0] == '@realDonaldTrump' and len(trump_tweets) < 50:\n",
    "        trump_tweets.append(title)\n",
    "    elif title.split('_')[0] == 'SenSanders' and len (sanders_tweets) < 50:\n",
    "        sanders_tweets.append(title)\n",
    "\n",
    "    if len(trump_tweets) == 50 and len(sanders_tweets) == 50:\n",
    "        break\n",
    "    \n",
    "   \n",
    "\n",
    "# Combine the selected tweets for both politicians\n",
    "balanced_sample = trump_tweets + sanders_tweets\n",
    "\n",
    "\n",
    "\n",
    "len(balanced_sample)\n",
    "target_labels = balanced_sample"
   ]
  },
  {
   "cell_type": "code",
   "execution_count": 454,
   "metadata": {},
   "outputs": [],
   "source": [
    "def visualize_topic_distributions_with_balanced_politicians(topic_distributions, titles, target_labels):\n",
    "    indices = [i for i, title in enumerate(titles) if title in target_labels and i < len(topic_distributions)]\n",
    "\n",
    "    sample_t_distributions = [topic_distributions[i] for i in indices]\n",
    "    # Ensure all titles are strings\n",
    "    titles = [str(title) for title in titles]\n",
    "    \n",
    "    # Extract sample topic distributions and politician usernames\n",
    "    sample_politicians_usernames =  [titles[i].split('_')[0] for i in indices]\n",
    "    topic_df = pd.DataFrame(sample_t_distributions, columns=[f'Topic {i+1}' for i in range(len(sample_t_distributions[0]))])\n",
    "    topic_df['politician'] = sample_politicians_usernames\n",
    "\n",
    "    # We have to aggregate and find the mean distribution for every topic for each of the politician in order to have numeric values to plot\n",
    "    pivot_df = topic_df.pivot_table(index = 'politician', aggfunc = 'mean').reset_index()\n",
    "    pivot_df = pivot_df.set_index('politician')\n",
    "    # Create a heatmap\n",
    "    plt.figure(figsize=(12, 8))\n",
    "    sns.heatmap(pivot_df, cmap=\"YlGnBu\", linewidth = .6, xticklabels=True)\n",
    "    plt.xlabel('Topic')\n",
    "    plt.ylabel('Politicians')\n",
    "    plt.title('Topic Relevance Heatmap for Balanced Sample of Tweets')\n",
    "    plt.show()\n",
    "\n",
    "    \n",
    "  \n",
    "\n"
   ]
  },
  {
   "cell_type": "code",
   "execution_count": 455,
   "metadata": {},
   "outputs": [
    {
     "data": {
      "image/png": "[encoded data removed]",
      "text/plain": [
       "<Figure size 1200x800 with 2 Axes>"
      ]
     },
     "metadata": {},
     "output_type": "display_data"
    }
   ],
   "source": [
    "visualize_topic_distributions_with_balanced_politicians(topic_distributions, titles, target_labels)"
   ]
  },
  {
   "cell_type": "markdown",
   "metadata": {
    "id": "sVvkS8XaFCmL"
   },
   "source": [
    "### X3. Optional question 3\n",
    "(This question is not compulsory, it only allows you to get an extra point)\n",
    "\n",
    "Extend the analysis to all the tweets in the dataset."
   ]
  },
  {
   "cell_type": "code",
   "execution_count": 456,
   "metadata": {},
   "outputs": [
    {
     "name": "stdout",
     "output_type": "stream",
     "text": [
      "Politician: S\n",
      "Mean Topic Distribution:\n",
      "[0.01467095 0.01610376 0.08224619 0.15400626 0.03002602 0.02744487\n",
      " 0.02629617 0.14943694 0.05800591 0.01050238 0.02102809 0.05323949\n",
      " 0.11650592 0.03440938 0.02237087 0.0473873  0.01884307 0.05864954\n",
      " 0.02487778 0.0339529 ]\n",
      "\n",
      "Politician: @\n",
      "Mean Topic Distribution:\n",
      "[0.03838579 0.05846287 0.02827089 0.02456138 0.06981331 0.04017835\n",
      " 0.04960537 0.02420101 0.04349796 0.04764552 0.05380751 0.04141255\n",
      " 0.03274769 0.08354143 0.02314385 0.0979195  0.05675345 0.04343862\n",
      " 0.06569341 0.07692746]\n",
      "\n"
     ]
    }
   ],
   "source": [
    "\n",
    "\n",
    "# Initialize dictionaries to store total topic distributions and counts for each politician\n",
    "politician_topic_distributions = {}\n",
    "politician_counts = {}\n",
    "\n",
    "# Iterate over each title and corresponding topic distribution\n",
    "for title, topic_distribution in zip(titles, topic_distributions):\n",
    "    politician_name = title[0]\n",
    "    if politician_name not in politician_topic_distributions:\n",
    "        # Initialize lists to store topic distributions and counts for each politician\n",
    "        politician_topic_distributions[politician_name] = np.array(topic_distribution)\n",
    "        politician_counts[politician_name] = 1\n",
    "    else:\n",
    "        # Add the topic distribution to the existing list and increment the count\n",
    "        politician_topic_distributions[politician_name] += np.array(topic_distribution)\n",
    "        politician_counts[politician_name] += 1\n",
    "\n",
    "# Calculate the mean topic distribution for each politician\n",
    "mean_topic_distributions = {}\n",
    "for politician_name in politician_topic_distributions:\n",
    "    mean_topic_distributions[politician_name] = politician_topic_distributions[politician_name] / politician_counts[politician_name]\n",
    "\n",
    "# Print the mean topic distribution for each politician\n",
    "for politician_name, mean_topic_distribution in mean_topic_distributions.items():\n",
    "    print(f\"Politician: {politician_name}\")\n",
    "    print(\"Mean Topic Distribution:\")\n",
    "    print(mean_topic_distribution)\n",
    "    print()\n"
   ]
  },
  {
   "cell_type": "code",
   "execution_count": 457,
   "metadata": {
    "id": "TJFY02h08kIh"
   },
   "outputs": [
    {
     "data": {
      "image/png": "[encoded data removed]",
      "text/plain": [
       "<Figure size 640x480 with 2 Axes>"
      ]
     },
     "metadata": {},
     "output_type": "display_data"
    }
   ],
   "source": [
    "# X3 (code and words)\n",
    "# Tip: plotting a heatmap for thousands of tweets is not practical.\n",
    "# Make a comparison based on the numerical values in the `df_norm_col` dataframe (see Week 6 notebook)\n",
    "import matplotlib.pyplot as plt\n",
    "import seaborn as sns\n",
    "\n",
    "sns.set(style='ticks', font_scale=1.2)\n",
    "\n",
    "\n",
    "def plot_categories_by_topics_heatmap(titles,\n",
    "                                      topic_distribution,\n",
    "                                      topic_words,\n",
    "                                      output_path=None,\n",
    "                                      target_label=None,\n",
    "                                      color_map=sns.cm.rocket_r,\n",
    "                                      dim=None):\n",
    "    # Combine the labels and distributions into a list of dictionaries.\n",
    "    dicts_to_plot = []\n",
    "    for _label, _distribution in zip(titles, topic_distributions):\n",
    "        if not target_labels or _label in target_labels:\n",
    "            for _topic_index, _probability in enumerate(_distribution):\n",
    "                dicts_to_plot.append({'Probability': float(_probability),\n",
    "                                      'Category': _label,\n",
    "                                      'Topic': 'Topic ' + str(_topic_index).zfill(2) + ': ' + ' '.join(topic_words[_topic_index][:5])})\n",
    "\n",
    "    # Create a dataframe, format it for the heatmap function, and normalize the columns.\n",
    "    df_to_plot = pd.DataFrame(dicts_to_plot)\n",
    "    df_wide = df_to_plot.pivot_table(index='Category',\n",
    "                                     columns='Topic',\n",
    "                                     values='Probability')\n",
    "    df_norm_col=(df_wide-df_wide.mean())/df_wide.std()\n",
    "\n",
    "    # Show the final plot.\n",
    "    if dim:\n",
    "        plt.figure(figsize=dim)\n",
    "    ax = sns.heatmap(df_norm_col, cmap=color_map)\n",
    "    ax.xaxis.tick_top()\n",
    "    ax.xaxis.set_label_position('top')\n",
    "    plt.xticks(rotation=30, ha='left')\n",
    "    plt.xticks(fontsize=6)\n",
    "    plt.yticks(fontsize=2)\n",
    "    plt.tight_layout()\n",
    "    plt.show()\n",
    "\n",
    "\n",
    "plot_categories_by_topics_heatmap(titles, topic_distributions, topic_words, target_labels)\n"
   ]
  }
 ],
 "metadata": {
  "colab": {
   "provenance": [],
   "toc_visible": true
  },
  "kernelspec": {
   "display_name": "Python 3 (ipykernel)",
   "language": "python",
   "name": "python3"
  },
  "language_info": {
   "codemirror_mode": {
    "name": "ipython",
    "version": 3
   },
   "file_extension": ".py",
   "mimetype": "text/x-python",
   "name": "python",
   "nbconvert_exporter": "python",
   "pygments_lexer": "ipython3",
   "version": "3.11.4"
  }
 },
 "nbformat": 4,
 "nbformat_minor": 4
}
